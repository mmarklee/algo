{
 "cells": [
  {
   "cell_type": "code",
   "execution_count": 1,
   "metadata": {},
   "outputs": [],
   "source": [
    "def binarysearch(low, mid, high, ls, data):\n",
    "    \n",
    "    if low == high:\n",
    "        print('Not here')\n",
    "        return False\n",
    "    elif ls[mid] == data:\n",
    "        print('Found')\n",
    "        return True\n",
    "    \n",
    "    #print(ls[low:high])\n",
    "    #print(low, high)\n",
    "    \n",
    "    if data > ls[mid]:\n",
    "        low = mid + 1\n",
    "        mid = (low+high)//2\n",
    "        binarysearch(low, mid, high, ls, data)\n",
    "    elif data < ls[mid]:\n",
    "        high = mid\n",
    "        mid = (low + high) // 2\n",
    "        binarysearch(low,mid, high, ls, data)\n",
    "    \n"
   ]
  },
  {
   "cell_type": "code",
   "execution_count": 11,
   "metadata": {},
   "outputs": [
    {
     "name": "stdout",
     "output_type": "stream",
     "text": [
      "Found\n"
     ]
    }
   ],
   "source": [
    "ls = [1,3,5,7,12,26,41,45,46,49,72]\n",
    "data = 12\n",
    "binarysearch(0, (0+len(ls))//2, len(ls), ls, data)"
   ]
  },
  {
   "cell_type": "code",
   "execution_count": 87,
   "metadata": {},
   "outputs": [],
   "source": [
    "def bubble(ls):\n",
    "    for n in range(len(ls) - 1, 0, -1):\n",
    "        #print(f\"n is : {n}\")\n",
    "        for index in range(n):\n",
    "            #print(index)\n",
    "            if ls[index] > ls[index + 1]:\n",
    "                temp = ls[index]\n",
    "                ls[index] = ls[index + 1]\n",
    "                ls[index + 1] = temp\n",
    "        #print('_____')"
   ]
  },
  {
   "cell_type": "code",
   "execution_count": 88,
   "metadata": {},
   "outputs": [
    {
     "data": {
      "text/plain": [
       "[1, 3, 4, 7, 8, 10, 15]"
      ]
     },
     "execution_count": 88,
     "metadata": {},
     "output_type": "execute_result"
    }
   ],
   "source": [
    "ls = [7,3,8,4,1,10,15]\n",
    "bubble(ls)\n",
    "ls"
   ]
  },
  {
   "cell_type": "code",
   "execution_count": 90,
   "metadata": {},
   "outputs": [],
   "source": [
    "def selection(ls):\n",
    "    for i in range(len(ls) - 1):\n",
    "        smallest_index = i\n",
    "        for k in range(i, len(ls)):\n",
    "            if ls[k] < ls[smallest_index]:\n",
    "                smallest_index = k\n",
    "        temp = ls[smallest_index]\n",
    "        ls[smallest_index] = ls[i]\n",
    "        ls[i] = temp"
   ]
  },
  {
   "cell_type": "code",
   "execution_count": 94,
   "metadata": {},
   "outputs": [
    {
     "data": {
      "text/plain": [
       "[1, 3, 4, 7, 8, 10, 15]"
      ]
     },
     "execution_count": 94,
     "metadata": {},
     "output_type": "execute_result"
    }
   ],
   "source": [
    "ls = [7,3,8,4,1,10,15]\n",
    "selection(ls)\n",
    "ls"
   ]
  },
  {
   "cell_type": "code",
   "execution_count": 105,
   "metadata": {},
   "outputs": [],
   "source": [
    "def insert(ls):\n",
    "    for i in range(1, len(ls)):\n",
    "        curr = ls[i]\n",
    "        for k in range(i, 0, -1):\n",
    "            if ls[k-1] > ls[k]:\n",
    "                temp = ls[k-1]\n",
    "                ls[k-1] = ls[k]\n",
    "                ls[k] = temp"
   ]
  },
  {
   "cell_type": "code",
   "execution_count": 106,
   "metadata": {},
   "outputs": [
    {
     "data": {
      "text/plain": [
       "[1, 3, 4, 7, 8, 10, 15]"
      ]
     },
     "execution_count": 106,
     "metadata": {},
     "output_type": "execute_result"
    }
   ],
   "source": [
    "ls = [7,3,8,4,1,10,15]\n",
    "insert(ls)\n",
    "ls"
   ]
  },
  {
   "cell_type": "code",
   "execution_count": 111,
   "metadata": {},
   "outputs": [],
   "source": [
    "def shell(ls):\n",
    "    gap = len(ls)//2\n",
    "    while gap > 0:\n",
    "        for index in range(gap, len(ls)):\n",
    "            trail = index - gap\n",
    "            k = index\n",
    "            while (trail >= 0):\n",
    "                if ls[trail] > ls[k]:\n",
    "                    temp = ls[trail]\n",
    "                    ls[trail] = ls[k]\n",
    "                    ls[k] = temp\n",
    "                trail -= gap\n",
    "                k -= gap\n",
    "        \n",
    "        gap = gap // 2"
   ]
  },
  {
   "cell_type": "code",
   "execution_count": 114,
   "metadata": {},
   "outputs": [
    {
     "data": {
      "text/plain": [
       "[1, 3, 4, 7, 8, 10, 15]"
      ]
     },
     "execution_count": 114,
     "metadata": {},
     "output_type": "execute_result"
    }
   ],
   "source": [
    "ls = [7,3,8,4,1,10,15]\n",
    "shell(ls)\n",
    "ls"
   ]
  },
  {
   "cell_type": "code",
   "execution_count": 164,
   "metadata": {},
   "outputs": [],
   "source": [
    "# merge with insert of two lists\n",
    "def mergetwo(ls1, ls2):\n",
    "    new = []\n",
    "    i = j = 0\n",
    "    while i < len(ls1) and j < len(ls2):\n",
    "        if ls1[i] > ls2[j]:\n",
    "            new.append(ls2[j])\n",
    "            j +=1\n",
    "        else:\n",
    "            new.append(ls1[i])\n",
    "            i +=1\n",
    "    # sort rest of the list\n",
    "    for index in range(i, len(ls1)):\n",
    "        new.append(ls1[index])\n",
    "    for index in range(j, len(ls2)):\n",
    "        new.append(ls2[index])\n",
    "    \n",
    "    return new"
   ]
  },
  {
   "cell_type": "code",
   "execution_count": 166,
   "metadata": {},
   "outputs": [
    {
     "data": {
      "text/plain": [
       "[0, 1, 2, 4, 6, 7, 12, 12, 13, 15, 18, 21, 24, 29, 30, 31]"
      ]
     },
     "execution_count": 166,
     "metadata": {},
     "output_type": "execute_result"
    }
   ],
   "source": [
    "ls1 = [1,4,6,12,12,15,29,31]\n",
    "ls2 = [0,2,7,13,18,21,24,30]\n",
    "ls3 = mergetwo(ls1,ls2)\n",
    "ls3"
   ]
  },
  {
   "cell_type": "code",
   "execution_count": 308,
   "metadata": {},
   "outputs": [],
   "source": [
    "# h = len(ls) - 1\n",
    "# m = (l + h)/2\n",
    "def merge(ls, l, m, h):\n",
    "    i = l\n",
    "    j = m + 1\n",
    "    k = l\n",
    "    # make an array of len(ls)\n",
    "    new = ls.copy()\n",
    "    while i <= m and j <= h:\n",
    "        if ls[i] < ls[j]:\n",
    "            new[k] = ls[i]\n",
    "            i+=1\n",
    "        else:\n",
    "            new[k] = ls[j]\n",
    "            j+=1\n",
    "        k += 1\n",
    "    # sort the rest of the remaining list\n",
    "    while i <= m:\n",
    "        new[k] = ls[i]\n",
    "        i+=1\n",
    "        k+=1\n",
    "    while j <= h:\n",
    "        new[k] = ls[j]\n",
    "        j+=1\n",
    "        k+=1\n",
    "    # replace sorted list to original list\n",
    "    for index in range(len(ls)):\n",
    "        ls[index] = new[index]\n",
    "\n",
    "def rmerge(ls, l, h):\n",
    "    mid = (l+h)//2\n",
    "    # break into arrays of len(arr) = 1, then start merging\n",
    "    if l<h:\n",
    "        rmerge(ls, l, mid)\n",
    "        rmerge(ls, mid+1, h)\n",
    "        merge(ls, l, mid, h)"
   ]
  },
  {
   "cell_type": "code",
   "execution_count": 311,
   "metadata": {},
   "outputs": [
    {
     "data": {
      "text/plain": [
       "[-50, 0, 1, 2, 12, 12, 12, 23, 24, 27, 30, 45, 46, 50, 66, 312]"
      ]
     },
     "execution_count": 311,
     "metadata": {},
     "output_type": "execute_result"
    }
   ],
   "source": [
    "sort = [12,312,45,50,23,66,1,2,30,12,46,24,0,-50,12,27]\n",
    "rmerge(sort, 0, len(sort)-1)\n",
    "sort"
   ]
  },
  {
   "cell_type": "code",
   "execution_count": 337,
   "metadata": {},
   "outputs": [],
   "source": [
    "# h = len(ls) - 1\n",
    "def partition(ls, l, h):\n",
    "    # pivot value will be the first element\n",
    "    pivot = ls[l]\n",
    "    i = l\n",
    "    j = h\n",
    "    # i ---> <--- j\n",
    "    while i < j:\n",
    "        # find an element that is bigger than pivot\n",
    "        while ls[i] <= pivot and i <= h:\n",
    "            i+=1\n",
    "        # find an element that is smaller than pivot\n",
    "        while ls[j] > pivot and j >= 0:\n",
    "            j-=1\n",
    "        # swap values\n",
    "        if i < j:\n",
    "            temp = ls[i]\n",
    "            ls[i] = ls[j]\n",
    "            ls[j] = temp\n",
    "    # swap pivot to jth element\n",
    "    temp = ls[l]\n",
    "    ls[l] = ls[j]\n",
    "    ls[j] = temp\n",
    "    \n",
    "    return j\n",
    "\n",
    "def quick(ls, l, h):\n",
    "    if l<h:\n",
    "        j = partition(ls, l, h)\n",
    "        \n",
    "        quick(ls, l, j)\n",
    "        quick(ls, j+1, h)\n",
    "    "
   ]
  },
  {
   "cell_type": "code",
   "execution_count": 339,
   "metadata": {},
   "outputs": [
    {
     "ename": "RecursionError",
     "evalue": "maximum recursion depth exceeded in comparison",
     "output_type": "error",
     "traceback": [
      "\u001b[1;31m---------------------------------------------------------------------------\u001b[0m",
      "\u001b[1;31mRecursionError\u001b[0m                            Traceback (most recent call last)",
      "\u001b[1;32m<ipython-input-339-35f380cf1a19>\u001b[0m in \u001b[0;36m<module>\u001b[1;34m\u001b[0m\n\u001b[0;32m      1\u001b[0m \u001b[0mqs\u001b[0m \u001b[1;33m=\u001b[0m \u001b[1;33m[\u001b[0m\u001b[1;36m12\u001b[0m\u001b[1;33m,\u001b[0m\u001b[1;36m312\u001b[0m\u001b[1;33m,\u001b[0m\u001b[1;36m45\u001b[0m\u001b[1;33m,\u001b[0m\u001b[1;36m50\u001b[0m\u001b[1;33m,\u001b[0m\u001b[1;36m23\u001b[0m\u001b[1;33m,\u001b[0m\u001b[1;36m66\u001b[0m\u001b[1;33m,\u001b[0m\u001b[1;36m1\u001b[0m\u001b[1;33m,\u001b[0m\u001b[1;36m2\u001b[0m\u001b[1;33m,\u001b[0m\u001b[1;36m30\u001b[0m\u001b[1;33m,\u001b[0m\u001b[1;36m12\u001b[0m\u001b[1;33m,\u001b[0m\u001b[1;36m46\u001b[0m\u001b[1;33m,\u001b[0m\u001b[1;36m24\u001b[0m\u001b[1;33m,\u001b[0m\u001b[1;36m0\u001b[0m\u001b[1;33m,\u001b[0m\u001b[1;33m-\u001b[0m\u001b[1;36m50\u001b[0m\u001b[1;33m,\u001b[0m\u001b[1;36m12\u001b[0m\u001b[1;33m,\u001b[0m\u001b[1;36m27\u001b[0m\u001b[1;33m]\u001b[0m\u001b[1;33m\u001b[0m\u001b[1;33m\u001b[0m\u001b[0m\n\u001b[1;32m----> 2\u001b[1;33m \u001b[0mquick\u001b[0m\u001b[1;33m(\u001b[0m\u001b[0mqs\u001b[0m\u001b[1;33m,\u001b[0m \u001b[1;36m0\u001b[0m\u001b[1;33m,\u001b[0m \u001b[0mlen\u001b[0m\u001b[1;33m(\u001b[0m\u001b[0mqs\u001b[0m\u001b[1;33m)\u001b[0m\u001b[1;33m-\u001b[0m\u001b[1;36m1\u001b[0m\u001b[1;33m)\u001b[0m\u001b[1;33m\u001b[0m\u001b[1;33m\u001b[0m\u001b[0m\n\u001b[0m\u001b[0;32m      3\u001b[0m \u001b[0mqs\u001b[0m\u001b[1;33m\u001b[0m\u001b[1;33m\u001b[0m\u001b[0m\n",
      "\u001b[1;32m<ipython-input-337-90a4635f47ad>\u001b[0m in \u001b[0;36mquick\u001b[1;34m(ls, l, h)\u001b[0m\n\u001b[0;32m     29\u001b[0m         \u001b[0mj\u001b[0m \u001b[1;33m=\u001b[0m \u001b[0mpartition\u001b[0m\u001b[1;33m(\u001b[0m\u001b[0mls\u001b[0m\u001b[1;33m,\u001b[0m \u001b[0ml\u001b[0m\u001b[1;33m,\u001b[0m \u001b[0mh\u001b[0m\u001b[1;33m)\u001b[0m\u001b[1;33m\u001b[0m\u001b[1;33m\u001b[0m\u001b[0m\n\u001b[0;32m     30\u001b[0m \u001b[1;33m\u001b[0m\u001b[0m\n\u001b[1;32m---> 31\u001b[1;33m         \u001b[0mquick\u001b[0m\u001b[1;33m(\u001b[0m\u001b[0mls\u001b[0m\u001b[1;33m,\u001b[0m \u001b[0ml\u001b[0m\u001b[1;33m,\u001b[0m \u001b[0mj\u001b[0m\u001b[1;33m)\u001b[0m\u001b[1;33m\u001b[0m\u001b[1;33m\u001b[0m\u001b[0m\n\u001b[0m\u001b[0;32m     32\u001b[0m         \u001b[0mquick\u001b[0m\u001b[1;33m(\u001b[0m\u001b[0mls\u001b[0m\u001b[1;33m,\u001b[0m \u001b[0mj\u001b[0m\u001b[1;33m+\u001b[0m\u001b[1;36m1\u001b[0m\u001b[1;33m,\u001b[0m \u001b[0mh\u001b[0m\u001b[1;33m)\u001b[0m\u001b[1;33m\u001b[0m\u001b[1;33m\u001b[0m\u001b[0m\n\u001b[0;32m     33\u001b[0m \u001b[1;33m\u001b[0m\u001b[0m\n",
      "\u001b[1;32m<ipython-input-337-90a4635f47ad>\u001b[0m in \u001b[0;36mquick\u001b[1;34m(ls, l, h)\u001b[0m\n\u001b[0;32m     30\u001b[0m \u001b[1;33m\u001b[0m\u001b[0m\n\u001b[0;32m     31\u001b[0m         \u001b[0mquick\u001b[0m\u001b[1;33m(\u001b[0m\u001b[0mls\u001b[0m\u001b[1;33m,\u001b[0m \u001b[0ml\u001b[0m\u001b[1;33m,\u001b[0m \u001b[0mj\u001b[0m\u001b[1;33m)\u001b[0m\u001b[1;33m\u001b[0m\u001b[1;33m\u001b[0m\u001b[0m\n\u001b[1;32m---> 32\u001b[1;33m         \u001b[0mquick\u001b[0m\u001b[1;33m(\u001b[0m\u001b[0mls\u001b[0m\u001b[1;33m,\u001b[0m \u001b[0mj\u001b[0m\u001b[1;33m+\u001b[0m\u001b[1;36m1\u001b[0m\u001b[1;33m,\u001b[0m \u001b[0mh\u001b[0m\u001b[1;33m)\u001b[0m\u001b[1;33m\u001b[0m\u001b[1;33m\u001b[0m\u001b[0m\n\u001b[0m\u001b[0;32m     33\u001b[0m \u001b[1;33m\u001b[0m\u001b[0m\n",
      "\u001b[1;32m<ipython-input-337-90a4635f47ad>\u001b[0m in \u001b[0;36mquick\u001b[1;34m(ls, l, h)\u001b[0m\n\u001b[0;32m     29\u001b[0m         \u001b[0mj\u001b[0m \u001b[1;33m=\u001b[0m \u001b[0mpartition\u001b[0m\u001b[1;33m(\u001b[0m\u001b[0mls\u001b[0m\u001b[1;33m,\u001b[0m \u001b[0ml\u001b[0m\u001b[1;33m,\u001b[0m \u001b[0mh\u001b[0m\u001b[1;33m)\u001b[0m\u001b[1;33m\u001b[0m\u001b[1;33m\u001b[0m\u001b[0m\n\u001b[0;32m     30\u001b[0m \u001b[1;33m\u001b[0m\u001b[0m\n\u001b[1;32m---> 31\u001b[1;33m         \u001b[0mquick\u001b[0m\u001b[1;33m(\u001b[0m\u001b[0mls\u001b[0m\u001b[1;33m,\u001b[0m \u001b[0ml\u001b[0m\u001b[1;33m,\u001b[0m \u001b[0mj\u001b[0m\u001b[1;33m)\u001b[0m\u001b[1;33m\u001b[0m\u001b[1;33m\u001b[0m\u001b[0m\n\u001b[0m\u001b[0;32m     32\u001b[0m         \u001b[0mquick\u001b[0m\u001b[1;33m(\u001b[0m\u001b[0mls\u001b[0m\u001b[1;33m,\u001b[0m \u001b[0mj\u001b[0m\u001b[1;33m+\u001b[0m\u001b[1;36m1\u001b[0m\u001b[1;33m,\u001b[0m \u001b[0mh\u001b[0m\u001b[1;33m)\u001b[0m\u001b[1;33m\u001b[0m\u001b[1;33m\u001b[0m\u001b[0m\n\u001b[0;32m     33\u001b[0m \u001b[1;33m\u001b[0m\u001b[0m\n",
      "... last 1 frames repeated, from the frame below ...\n",
      "\u001b[1;32m<ipython-input-337-90a4635f47ad>\u001b[0m in \u001b[0;36mquick\u001b[1;34m(ls, l, h)\u001b[0m\n\u001b[0;32m     29\u001b[0m         \u001b[0mj\u001b[0m \u001b[1;33m=\u001b[0m \u001b[0mpartition\u001b[0m\u001b[1;33m(\u001b[0m\u001b[0mls\u001b[0m\u001b[1;33m,\u001b[0m \u001b[0ml\u001b[0m\u001b[1;33m,\u001b[0m \u001b[0mh\u001b[0m\u001b[1;33m)\u001b[0m\u001b[1;33m\u001b[0m\u001b[1;33m\u001b[0m\u001b[0m\n\u001b[0;32m     30\u001b[0m \u001b[1;33m\u001b[0m\u001b[0m\n\u001b[1;32m---> 31\u001b[1;33m         \u001b[0mquick\u001b[0m\u001b[1;33m(\u001b[0m\u001b[0mls\u001b[0m\u001b[1;33m,\u001b[0m \u001b[0ml\u001b[0m\u001b[1;33m,\u001b[0m \u001b[0mj\u001b[0m\u001b[1;33m)\u001b[0m\u001b[1;33m\u001b[0m\u001b[1;33m\u001b[0m\u001b[0m\n\u001b[0m\u001b[0;32m     32\u001b[0m         \u001b[0mquick\u001b[0m\u001b[1;33m(\u001b[0m\u001b[0mls\u001b[0m\u001b[1;33m,\u001b[0m \u001b[0mj\u001b[0m\u001b[1;33m+\u001b[0m\u001b[1;36m1\u001b[0m\u001b[1;33m,\u001b[0m \u001b[0mh\u001b[0m\u001b[1;33m)\u001b[0m\u001b[1;33m\u001b[0m\u001b[1;33m\u001b[0m\u001b[0m\n\u001b[0;32m     33\u001b[0m \u001b[1;33m\u001b[0m\u001b[0m\n",
      "\u001b[1;31mRecursionError\u001b[0m: maximum recursion depth exceeded in comparison"
     ]
    }
   ],
   "source": [
    "qs = [12,312,45,50,23,66,1,2,30,12,46,24,0,-50,12,27]\n",
    "quick(qs, 0, len(qs)-1)\n",
    "qs"
   ]
  },
  {
   "cell_type": "code",
   "execution_count": null,
   "metadata": {},
   "outputs": [],
   "source": []
  }
 ],
 "metadata": {
  "kernelspec": {
   "display_name": "Python 3",
   "language": "python",
   "name": "python3"
  },
  "language_info": {
   "codemirror_mode": {
    "name": "ipython",
    "version": 3
   },
   "file_extension": ".py",
   "mimetype": "text/x-python",
   "name": "python",
   "nbconvert_exporter": "python",
   "pygments_lexer": "ipython3",
   "version": "3.8.2"
  }
 },
 "nbformat": 4,
 "nbformat_minor": 4
}
